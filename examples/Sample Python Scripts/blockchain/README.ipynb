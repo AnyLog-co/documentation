{
 "cells": [
  {
   "cell_type": "markdown",
   "metadata": {},
   "source": [
    "# Assignment 4\n",
    "\n",
    "In this assignment, you'll combine the assignment 3 data set with nutrition data from the [USDA Food Composition Databases](https://ndb.nal.usda.gov/ndb/search/list). The CSV file `fresh.csv` contains the fresh fruits and vegetables data you extracted in assignment 3.\n",
    "\n",
    "The USDA Food Composition Databases have a [documented](https://ndb.nal.usda.gov/ndb/doc/index) web API that returns data in JSON format . You need a key in order to use the API. Only 1000 requests are allowed per hour, so it would be a good idea to use [caching][requests_cache].\n",
    "\n",
    "[Sign up for an API key here](https://api.data.gov/signup/). The key will work with any Data.gov API. You may need the key again later in the quarter, so make sure you save it.\n",
    "\n",
    "These modules may be useful:\n",
    "\n",
    "* [requests](http://docs.python-requests.org/en/master/user/quickstart/)\n",
    "* [requests_cache][]\n",
    "* [urlparse](https://docs.python.org/2/library/urlparse.html)\n",
    "* [pandas](http://pandas.pydata.org/pandas-docs/stable/)\n",
    "\n",
    "[requests_cache]: https://pypi.python.org/pypi/requests-cache"
   ]
  },
 "nbformat": 4,
 "nbformat_minor": 2
}
